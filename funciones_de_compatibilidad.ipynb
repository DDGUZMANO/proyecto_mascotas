{
  "nbformat": 4,
  "nbformat_minor": 0,
  "metadata": {
    "colab": {
      "provenance": [],
      "authorship_tag": "ABX9TyPkvy+9TgTPgaRu1GwKB+Bs",
      "include_colab_link": true
    },
    "kernelspec": {
      "name": "python3",
      "display_name": "Python 3"
    },
    "language_info": {
      "name": "python"
    }
  },
  "cells": [
    {
      "cell_type": "markdown",
      "metadata": {
        "id": "view-in-github",
        "colab_type": "text"
      },
      "source": [
        "<a href=\"https://colab.research.google.com/github/DDGUZMANO/proyecto_mascotas/blob/Machine-Learning/funciones_de_compatibilidad.ipynb\" target=\"_parent\"><img src=\"https://colab.research.google.com/assets/colab-badge.svg\" alt=\"Open In Colab\"/></a>"
      ]
    },
    {
      "cell_type": "markdown",
      "source": [
        "# Funciones para encontrar la mascota que sea mas compatible al usuario cuidador\n"
      ],
      "metadata": {
        "id": "pEoue_FHNO2z"
      }
    },
    {
      "cell_type": "code",
      "source": [
        "def calcular_compatibilidad_cuidador(cuidador, mascota):\n",
        "    \"\"\"\n",
        "    Calcula la compatibilidad de un cuidador con una mascota.\n",
        "\n",
        "    Args:\n",
        "        cuidador (dict): Diccionario con los datos del cuidador.\n",
        "        mascota (dict): Diccionario con los datos de la mascota.\n",
        "\n",
        "    Returns:\n",
        "        int: Puntuación de compatibilidad.\n",
        "    \"\"\"\n",
        "    compatibilidad = 0\n",
        "    # Comprobar tipo de animal\n",
        "    if cuidador['acepta_Perro'] == 1 and mascota['tipo_animal_Perro'] == 1:\n",
        "        compatibilidad += 1\n",
        "    if cuidador['acepta_Gato'] == 1 and mascota['tipo_animal_Gato'] == 1:\n",
        "        compatibilidad += 1\n",
        "    if cuidador['acepta_Ave'] == 1 and mascota['tipo_animal_Ave'] == 1:\n",
        "        compatibilidad += 1\n",
        "    if cuidador['acepta_Roedor'] == 1 and mascota['tipo_animal_Roedor'] == 1:\n",
        "        compatibilidad += 1\n",
        "\n",
        "    # Comprobar ubicación (barrio)\n",
        "    for ubicacion in cuidador:\n",
        "        if \"ubicacion_\" in ubicacion:\n",
        "            if cuidador[ubicacion] == 1 and mascota[ubicacion] == 1:\n",
        "                compatibilidad += 1\n",
        "\n",
        "    # Comprobar tamaño de mascota\n",
        "    if cuidador['tamaño_mascota_aceptada_Pequeño'] == 1 and mascota['tamanio_Pequeño'] == 1:\n",
        "        compatibilidad += 1\n",
        "    if cuidador['tamaño_mascota_aceptada_Grande'] == 1 and mascota['tamanio_Grande'] == 1:\n",
        "        compatibilidad += 1\n",
        "\n",
        "    # Comprobar necesidades especiales y experiencia (si aplica)\n",
        "    if 'necesidades_especiales_True' in mascota:\n",
        "        if mascota['necesidades_especiales_True'] == 1:\n",
        "            if cuidador['experiencia'] > 5:\n",
        "                compatibilidad += 1\n",
        "            else:\n",
        "                compatibilidad -= 1  # Penalizar la incompatibilidad\n",
        "\n",
        "    return compatibilidad"
      ],
      "metadata": {
        "id": "SmFQSvfGMzcm"
      },
      "execution_count": 36,
      "outputs": []
    },
    {
      "cell_type": "code",
      "source": [
        "def encontrar_compatibles_cuidador(datos_formulario, base_de_datos_mascotas):\n",
        "    \"\"\"\n",
        "    Encuentra mascotas compatibles con los datos del cuidador.\n",
        "\n",
        "    Args:\n",
        "        datos_formulario (dict): Diccionario con los datos del cuidador.\n",
        "        base_de_datos_mascotas (list): Lista de diccionarios con los datos de las mascotas.\n",
        "\n",
        "    Returns:\n",
        "        list: Lista de tuplas (compatibilidad, id_mascota).\n",
        "    \"\"\"\n",
        "\n",
        "    resultados = []\n",
        "    for mascota in base_de_datos_mascotas:\n",
        "        compatibilidad = calcular_compatibilidad_cuidador(datos_formulario, mascota)\n",
        "        resultados.append((compatibilidad, mascota[\"id\"]))  # Asumiendo que cada mascota tiene un \"id\"\n",
        "\n",
        "    resultados.sort(key=lambda x: x[0], reverse=True)\n",
        "    return resultados"
      ],
      "metadata": {
        "id": "Eox8XBIpM4I8"
      },
      "execution_count": 37,
      "outputs": []
    },
    {
      "cell_type": "code",
      "source": [
        "def generar_salida_usuario_mascotas(resultados, base_de_datos_mascotas, num_mascotas=2):\n",
        "    salida_usuario = []\n",
        "    for compatibilidad, id_mascota in resultados[:num_mascotas]:\n",
        "        for mascota in base_de_datos_mascotas:\n",
        "            if mascota[\"id\"] == id_mascota:\n",
        "                salida_usuario.append(\n",
        "                    {\n",
        "                        \"id\": mascota[\"id\"],\n",
        "                        \"nombre\": mascota[\"nombre\"],\n",
        "                        \"compatibilidad\": compatibilidad,\n",
        "                        \"url_imagen\": mascota[\"url_imagen\"],\n",
        "                    }\n",
        "                )\n",
        "                break\n",
        "    return salida_usuario"
      ],
      "metadata": {
        "id": "1waF5wLFM_hs"
      },
      "execution_count": 38,
      "outputs": []
    },
    {
      "cell_type": "markdown",
      "source": [
        "# prueba"
      ],
      "metadata": {
        "id": "zHAkzxryPNgR"
      }
    },
    {
      "cell_type": "code",
      "source": [
        "pip install Faker"
      ],
      "metadata": {
        "colab": {
          "base_uri": "https://localhost:8080/"
        },
        "id": "_pf2GTeRN28j",
        "outputId": "945ccd63-a91b-4e23-cf2a-e49380cfad54"
      },
      "execution_count": 39,
      "outputs": [
        {
          "output_type": "stream",
          "name": "stdout",
          "text": [
            "Requirement already satisfied: Faker in /usr/local/lib/python3.11/dist-packages (37.0.2)\n",
            "Requirement already satisfied: tzdata in /usr/local/lib/python3.11/dist-packages (from Faker) (2025.1)\n"
          ]
        }
      ]
    },
    {
      "cell_type": "code",
      "source": [
        "datos_formulario_cuidador = {\n",
        "    \"acepta_Perro\": 1,\n",
        "    \"acepta_Gato\": 0,\n",
        "    \"acepta_Ave\": 0,\n",
        "    \"acepta_Roedor\": 0,\n",
        "    \"ubicacion_Amate\": 1,\n",
        "    \"ubicacion_Bami\": 0,\n",
        "    \"ubicacion_Bellavista-La Palmera\": 0,\n",
        "    \"ubicacion_Centro\": 0,\n",
        "    \"ubicacion_Cerro-Amate\": 0,\n",
        "    \"ubicacion_El Plantinar\": 0,\n",
        "    \"ubicacion_Este-Alcosa-Torreblanca\": 0,\n",
        "    \"ubicacion_Huerta del Rey\": 0,\n",
        "    \"ubicacion_La Cartuja\": 0,\n",
        "    \"ubicacion_Los Remedios\": 0,\n",
        "    \"ubicacion_Macarena\": 0,\n",
        "    \"ubicacion_Nervión\": 0,\n",
        "    \"ubicacion_Padre Pío-Palmete\": 0,\n",
        "    \"ubicacion_Pino Montano\": 0,\n",
        "    \"ubicacion_Polígono San Pablo\": 0,\n",
        "    \"ubicacion_San Jerónimo\": 0,\n",
        "    \"ubicacion_San Pablo-Santa Justa\": 0,\n",
        "    \"ubicacion_Sur\": 0,\n",
        "    \"ubicacion_Triana\": 0,\n",
        "    \"tamaño_mascota_aceptada_Pequeño\": 1,\n",
        "    \"tamaño_mascota_aceptada_Grande\": 0,\n",
        "    \"experiencia\": 7,\n",
        "}"
      ],
      "metadata": {
        "id": "Zo30czS5Phcs"
      },
      "execution_count": 40,
      "outputs": []
    },
    {
      "cell_type": "code",
      "source": [
        "from faker import Faker\n",
        "\n",
        "fake = Faker()\n",
        "\n",
        "base_de_datos_mascotas = [\n",
        "    {\n",
        "        \"id\": 1,\n",
        "        \"nombre\": \"Max\",\n",
        "        \"tipo_animal_Perro\": 1,\n",
        "        \"tipo_animal_Gato\": 0,\n",
        "        \"tipo_animal_Ave\": 0,\n",
        "        \"tipo_animal_Roedor\": 0,\n",
        "        \"ubicacion_Amate\": 1,\n",
        "        \"ubicacion_Bami\": 0,\n",
        "        \"ubicacion_Bellavista-La Palmera\": 0,\n",
        "        \"ubicacion_Centro\": 0,\n",
        "        \"ubicacion_Cerro-Amate\": 0,\n",
        "        \"ubicacion_El Plantinar\": 0,\n",
        "        \"ubicacion_Este-Alcosa-Torreblanca\": 0,\n",
        "        \"ubicacion_Huerta del Rey\": 0,\n",
        "        \"ubicacion_La Cartuja\": 0,\n",
        "        \"ubicacion_Los Remedios\": 0,\n",
        "        \"ubicacion_Macarena\": 0,\n",
        "        \"ubicacion_Nervión\": 0,\n",
        "        \"ubicacion_Padre Pío-Palmete\": 0,\n",
        "        \"ubicacion_Pino Montano\": 0,\n",
        "        \"ubicacion_Polígono San Pablo\": 0,\n",
        "        \"ubicacion_San Jerónimo\": 0,\n",
        "        \"ubicacion_San Pablo-Santa Justa\": 0,\n",
        "        \"ubicacion_Sur\": 0,\n",
        "        \"ubicacion_Triana\": 0,\n",
        "        \"tamanio_Pequeño\": 1,\n",
        "        \"tamanio_Grande\": 0,\n",
        "        \"necesidades_especiales_True\": 1,\n",
        "        \"url_imagen\": fake.image_url(),  # URL de imagen ficticia generada con Faker\n",
        "    },\n",
        "    {\n",
        "        \"id\": 2,\n",
        "        \"nombre\": \"Luna\",\n",
        "        \"tipo_animal_Perro\": 1,\n",
        "        \"tipo_animal_Gato\": 0,\n",
        "        \"tipo_animal_Ave\": 0,\n",
        "        \"tipo_animal_Roedor\": 0,\n",
        "        \"ubicacion_Amate\": 0,\n",
        "        \"ubicacion_Bami\": 1,\n",
        "        \"ubicacion_Bellavista-La Palmera\": 0,\n",
        "        \"ubicacion_Centro\": 0,\n",
        "        \"ubicacion_Cerro-Amate\": 0,\n",
        "        \"ubicacion_El Plantinar\": 0,\n",
        "        \"ubicacion_Este-Alcosa-Torreblanca\": 0,\n",
        "        \"ubicacion_Huerta del Rey\": 0,\n",
        "        \"ubicacion_La Cartuja\": 0,\n",
        "        \"ubicacion_Los Remedios\": 0,\n",
        "        \"ubicacion_Macarena\": 0,\n",
        "        \"ubicacion_Nervión\": 0,\n",
        "        \"ubicacion_Padre Pío-Palmete\": 0,\n",
        "        \"ubicacion_Pino Montano\": 0,\n",
        "        \"ubicacion_Polígono San Pablo\": 0,\n",
        "        \"ubicacion_San Jerónimo\": 0,\n",
        "        \"ubicacion_San Pablo-Santa Justa\": 0,\n",
        "        \"ubicacion_Sur\": 0,\n",
        "        \"ubicacion_Triana\": 0,\n",
        "        \"tamanio_Pequeño\": 0,\n",
        "        \"tamanio_Grande\": 1,\n",
        "        \"necesidades_especiales_False\": 1,\n",
        "        \"url_imagen\": fake.image_url(),  # URL de imagen ficticia generada con Faker\n",
        "    },\n",
        "    {\n",
        "        \"id\": 3,\n",
        "        \"nombre\": \"Coco\",\n",
        "        \"tipo_animal_Perro\": 1,\n",
        "        \"tipo_animal_Gato\": 0,\n",
        "        \"tipo_animal_Ave\": 0,\n",
        "        \"tipo_animal_Roedor\": 0,\n",
        "        \"ubicacion_Amate\": 1,\n",
        "        \"ubicacion_Bami\": 0,\n",
        "        \"ubicacion_Bellavista-La Palmera\": 0,\n",
        "        \"ubicacion_Centro\": 0,\n",
        "        \"ubicacion_Cerro-Amate\": 0,\n",
        "        \"ubicacion_El Plantinar\": 0,\n",
        "        \"ubicacion_Este-Alcosa-Torreblanca\": 0,\n",
        "        \"ubicacion_Huerta del Rey\": 0,\n",
        "        \"ubicacion_La Cartuja\": 0,\n",
        "        \"ubicacion_Los Remedios\": 0,\n",
        "        \"ubicacion_Macarena\": 0,\n",
        "        \"ubicacion_Nervión\": 0,\n",
        "        \"ubicacion_Padre Pío-Palmete\": 0,\n",
        "        \"ubicacion_Pino Montano\": 0,\n",
        "        \"ubicacion_Polígono San Pablo\": 0,\n",
        "        \"ubicacion_San Jerónimo\": 0,\n",
        "        \"ubicacion_San Pablo-Santa Justa\": 0,\n",
        "        \"ubicacion_Sur\": 0,\n",
        "        \"ubicacion_Triana\": 0,\n",
        "        \"tamanio_Pequeño\": 1,\n",
        "        \"tamanio_Grande\": 0,\n",
        "        \"necesidades_especiales_True\": 0,\n",
        "        \"url_imagen\": fake.image_url(),  # URL de imagen ficticia generada con Faker\n",
        "    },\n",
        "]"
      ],
      "metadata": {
        "id": "Aoq-sXBnNyK1"
      },
      "execution_count": 41,
      "outputs": []
    },
    {
      "cell_type": "code",
      "source": [
        "resultados = encontrar_compatibles_cuidador(datos_formulario_cuidador, base_de_datos_mascotas)\n",
        "print(\"Mascotas compatibles:\", resultados)"
      ],
      "metadata": {
        "colab": {
          "base_uri": "https://localhost:8080/"
        },
        "id": "EF-ATbXEPBua",
        "outputId": "279b80cc-0b24-4587-bf31-c4b4d039ee2c"
      },
      "execution_count": 42,
      "outputs": [
        {
          "output_type": "stream",
          "name": "stdout",
          "text": [
            "Mascotas compatibles: [(4, 1), (3, 3), (1, 2)]\n"
          ]
        }
      ]
    },
    {
      "cell_type": "code",
      "source": [
        "salida_usuario = generar_salida_usuario_mascotas(resultados, base_de_datos_mascotas)\n",
        "print(salida_usuario)"
      ],
      "metadata": {
        "colab": {
          "base_uri": "https://localhost:8080/"
        },
        "id": "Bo3_dG-9PI1g",
        "outputId": "7a50c269-7d26-47e4-8054-c7bf52f66579"
      },
      "execution_count": 43,
      "outputs": [
        {
          "output_type": "stream",
          "name": "stdout",
          "text": [
            "[{'id': 1, 'nombre': 'Max', 'compatibilidad': 4, 'url_imagen': 'https://placekitten.com/43/986'}, {'id': 3, 'nombre': 'Coco', 'compatibilidad': 3, 'url_imagen': 'https://picsum.photos/756/136'}]\n"
          ]
        }
      ]
    },
    {
      "cell_type": "markdown",
      "source": [
        "# funcion para recomendar un cuidador al usuario mascota\n"
      ],
      "metadata": {
        "id": "8cAWs1SoZ5mw"
      }
    },
    {
      "cell_type": "code",
      "source": [
        "def calcular_compatibilidad_mascota(mascota, cuidador):\n",
        "    \"\"\"\n",
        "    Calcula la compatibilidad entre una mascota y un cuidador.\n",
        "\n",
        "    Args:\n",
        "        mascota (dict): Diccionario con los datos de la mascota.\n",
        "        cuidador (dict): Diccionario con los datos del cuidador.\n",
        "\n",
        "    Returns:\n",
        "        int: Puntuación de compatibilidad.\n",
        "    \"\"\"\n",
        "    compatibilidad = 0\n",
        "\n",
        "    # Comprobar tipo de animal\n",
        "    if mascota['tipo_animal_Perro'] == 1 and cuidador['acepta_Perro'] == 1:\n",
        "        compatibilidad += 1\n",
        "    if mascota['tipo_animal_Gato'] == 1 and cuidador['acepta_Gato'] == 1:\n",
        "        compatibilidad += 1\n",
        "    if mascota['tipo_animal_Ave'] == 1 and cuidador['acepta_Ave'] == 1:\n",
        "        compatibilidad += 1\n",
        "    if mascota['tipo_animal_Roedor'] == 1 and cuidador['acepta_Roedor'] == 1:\n",
        "        compatibilidad += 1\n",
        "\n",
        "    # Comprobar ubicación (barrio)\n",
        "    # Asumiendo que tienes una lista de nombres de columnas de ubicación\n",
        "    ubicaciones = [col for col in cuidador if col.startswith('ubicacion_')]\n",
        "    for ubicacion in ubicaciones:\n",
        "        if mascota[ubicacion] == 1 and cuidador[ubicacion] == 1:\n",
        "            compatibilidad += 1\n",
        "\n",
        "    # Comprobar tamaño de mascota\n",
        "    if mascota['tamanio_Pequeño'] == 1 and cuidador['tamaño_mascota_aceptada_Pequeño'] == 1:\n",
        "        compatibilidad += 1\n",
        "    if mascota['tamanio_Grande'] == 1 and cuidador['tamaño_mascota_aceptada_Grande'] == 1:\n",
        "        compatibilidad += 1\n",
        "\n",
        "    # Comprobar necesidades especiales y experiencia\n",
        "    if mascota['necesidades_especiales_True'] == 1:\n",
        "        if cuidador['experiencia'] > 5:\n",
        "            compatibilidad += 1\n",
        "        else:\n",
        "            compatibilidad -= 1  # Penalizar la incompatibilidad\n",
        "\n",
        "    return compatibilidad"
      ],
      "metadata": {
        "id": "6lZweKVTaAPl"
      },
      "execution_count": 65,
      "outputs": []
    },
    {
      "cell_type": "code",
      "source": [
        "def encontrar_compatibles(datos_formulario, tipo_usuario, base_de_datos):\n",
        "    \"\"\"\n",
        "    Encuentra cuidadores o mascotas compatibles con los datos del formulario.\n",
        "\n",
        "    Args:\n",
        "        datos_formulario (dict): Diccionario con los datos del formulario.\n",
        "        tipo_usuario (str): \"mascota\" o \"cuidador\".\n",
        "        base_de_datos (list): Lista de diccionarios con los datos de la base de datos.\n",
        "\n",
        "    Returns:\n",
        "        list: Lista de tuplas (compatibilidad, id_usuario).\n",
        "    \"\"\"\n",
        "\n",
        "    resultados = []\n",
        "    for usuario in base_de_datos:\n",
        "        if tipo_usuario == \"mascota\":\n",
        "            compatibilidad = calcular_compatibilidad_mascota(datos_formulario, usuario)\n",
        "            resultados.append((compatibilidad, usuario[\"id\"]))\n",
        "        elif tipo_usuario == \"cuidador\":\n",
        "            compatibilidad = calcular_compatibilidad_mascota(usuario, datos_formulario)\n",
        "            resultados.append((compatibilidad, usuario[\"id\"]))\n",
        "\n",
        "    resultados.sort(key=lambda x: x[0], reverse=True)\n",
        "    return resultados"
      ],
      "metadata": {
        "id": "OAQPOX45aNJw"
      },
      "execution_count": 66,
      "outputs": []
    },
    {
      "cell_type": "code",
      "source": [
        "def generar_salida_usuario(resultados, base_de_datos_cuidadores, num_cuidadores=2):\n",
        "    \"\"\"\n",
        "    Genera una lista de diccionarios con la información de los cuidadores más compatibles.\n",
        "\n",
        "    Args:\n",
        "        resultados (list): Lista de tuplas (compatibilidad, id_cuidador).\n",
        "        base_de_datos_cuidadores (list): Lista de diccionarios con los datos de los cuidadores.\n",
        "        num_cuidadores (int): Número de cuidadores a mostrar (por defecto, 2).\n",
        "\n",
        "    Returns:\n",
        "        list: Lista de diccionarios con la información de los cuidadores.\n",
        "    \"\"\"\n",
        "\n",
        "    salida_usuario = []\n",
        "    for compatibilidad, id_cuidador in resultados[:num_cuidadores]:  # Toma solo los primeros num_cuidadores\n",
        "        for cuidador in base_de_datos_cuidadores:\n",
        "            if cuidador[\"id\"] == id_cuidador:\n",
        "                salida_usuario.append(\n",
        "                    {\n",
        "                        \"id\": cuidador[\"id\"],\n",
        "                        \"nombre\": cuidador[\"nombre\"],\n",
        "                        \"compatibilidad\": compatibilidad,\n",
        "                        # Agrega aquí otros datos del cuidador que quieras mostrar\n",
        "                    }\n",
        "                )\n",
        "                break  # Encontró el cuidador, no necesita seguir buscando\n",
        "    return salida_usuario\n"
      ],
      "metadata": {
        "id": "ZJ7k9YQGaW86"
      },
      "execution_count": 67,
      "outputs": []
    },
    {
      "cell_type": "markdown",
      "source": [
        "# prueba\n"
      ],
      "metadata": {
        "id": "gIpqdihdawOS"
      }
    },
    {
      "cell_type": "code",
      "source": [
        "# Ejemplo de uso\n",
        "resultados = [(4, 1), (4, 3), (0, 2)]\n",
        "salida_usuario = generar_salida_usuario(resultados, base_de_datos_cuidadores)\n",
        "print(salida_usuario)"
      ],
      "metadata": {
        "colab": {
          "base_uri": "https://localhost:8080/"
        },
        "id": "hjAxuuLWavOk",
        "outputId": "36ae04ca-ae8a-45b5-823a-3753521fdbf6"
      },
      "execution_count": 77,
      "outputs": [
        {
          "output_type": "stream",
          "name": "stdout",
          "text": [
            "[{'id': 1, 'nombre': 'Douglas García', 'compatibilidad': 4}, {'id': 3, 'nombre': 'Laura Martínez', 'compatibilidad': 4}]\n"
          ]
        }
      ]
    },
    {
      "cell_type": "code",
      "source": [
        "datos_formulario_mascota = {\n",
        "    \"tipo_animal_Perro\": 1,\n",
        "    \"tipo_animal_Gato\": 0,\n",
        "    \"tipo_animal_Ave\": 0,\n",
        "    \"tipo_animal_Roedor\": 0,\n",
        "    \"ubicacion_Amate\": 1,\n",
        "    \"ubicacion_Bami\": 0,\n",
        "    \"ubicacion_Bellavista-La Palmera\": 0,\n",
        "    \"ubicacion_Centro\": 0,\n",
        "    \"ubicacion_Cerro-Amate\": 0,\n",
        "    \"ubicacion_El Plantinar\": 0,\n",
        "    \"ubicacion_Este-Alcosa-Torreblanca\": 0,\n",
        "    \"ubicacion_Huerta del Rey\": 0,\n",
        "    \"ubicacion_La Cartuja\": 0,\n",
        "    \"ubicacion_Los Remedios\": 0,\n",
        "    \"ubicacion_Macarena\": 0,\n",
        "    \"ubicacion_Nervión\": 0,\n",
        "    \"ubicacion_Padre Pío-Palmete\": 0,\n",
        "    \"ubicacion_Pino Montano\": 0,\n",
        "    \"ubicacion_Polígono San Pablo\": 0,\n",
        "    \"ubicacion_San Jerónimo\": 0,\n",
        "    \"ubicacion_San Pablo-Santa Justa\": 0,\n",
        "    \"ubicacion_Sur\": 0,\n",
        "    \"ubicacion_Triana\": 0,\n",
        "    \"tamanio_Pequeño\": 1,\n",
        "    \"tamanio_Grande\": 0,\n",
        "    \"necesidades_especiales_True\": 1,\n",
        "}"
      ],
      "metadata": {
        "id": "tQy_5N99aJQb"
      },
      "execution_count": 73,
      "outputs": []
    },
    {
      "cell_type": "code",
      "source": [
        "base_de_datos_cuidadores = [\n",
        "    {\n",
        "        \"id\": 1,\n",
        "        \"nombre\": \"Douglas García\",  # Nombre agregado\n",
        "        \"acepta_Perro\": 1,\n",
        "        \"acepta_Gato\": 0,\n",
        "        \"acepta_Ave\": 0,\n",
        "        \"acepta_Roedor\": 0,\n",
        "        \"ubicacion_Amate\": 1,\n",
        "        \"ubicacion_Bami\": 0,\n",
        "        \"ubicacion_Bellavista-La Palmera\": 0,\n",
        "        \"ubicacion_Centro\": 0,\n",
        "        \"ubicacion_Cerro-Amate\": 0,\n",
        "        \"ubicacion_El Plantinar\": 0,\n",
        "        \"ubicacion_Este-Alcosa-Torreblanca\": 0,\n",
        "        \"ubicacion_Huerta del Rey\": 0,\n",
        "        \"ubicacion_La Cartuja\": 0,\n",
        "        \"ubicacion_Los Remedios\": 0,\n",
        "        \"ubicacion_Macarena\": 0,\n",
        "        \"ubicacion_Nervión\": 0,\n",
        "        \"ubicacion_Padre Pío-Palmete\": 0,\n",
        "        \"ubicacion_Pino Montano\": 0,\n",
        "        \"ubicacion_Polígono San Pablo\": 0,\n",
        "        \"ubicacion_San Jerónimo\": 0,\n",
        "        \"ubicacion_San Pablo-Santa Justa\": 0,\n",
        "        \"ubicacion_Sur\": 0,\n",
        "        \"ubicacion_Triana\": 0,\n",
        "        \"tamaño_mascota_aceptada_Pequeño\": 1,\n",
        "        \"tamaño_mascota_aceptada_Grande\": 0,\n",
        "        \"experiencia\": 7,\n",
        "    },\n",
        "    {\n",
        "        \"id\": 2,\n",
        "        \"nombre\": \"Carlos Pérez\",  # Nombre agregado\n",
        "        \"acepta_Perro\": 1,\n",
        "        \"acepta_Gato\": 0,\n",
        "        \"acepta_Ave\": 0,\n",
        "        \"acepta_Roedor\": 0,\n",
        "        \"ubicacion_Amate\": 0,\n",
        "        \"ubicacion_Bami\": 1,\n",
        "        \"ubicacion_Bellavista-La Palmera\": 0,\n",
        "        \"ubicacion_Centro\": 0,\n",
        "        \"ubicacion_Cerro-Amate\": 0,\n",
        "        \"ubicacion_El Plantinar\": 0,\n",
        "        \"ubicacion_Este-Alcosa-Torreblanca\": 0,\n",
        "        \"ubicacion_Huerta del Rey\": 0,\n",
        "        \"ubicacion_La Cartuja\": 0,\n",
        "        \"ubicacion_Los Remedios\": 0,\n",
        "        \"ubicacion_Macarena\": 0,\n",
        "        \"ubicacion_Nervión\": 0,\n",
        "        \"ubicacion_Padre Pío-Palmete\": 0,\n",
        "        \"ubicacion_Pino Montano\": 0,\n",
        "        \"ubicacion_Polígono San Pablo\": 0,\n",
        "        \"ubicacion_San Jerónimo\": 0,\n",
        "        \"ubicacion_San Pablo-Santa Justa\": 0,\n",
        "        \"ubicacion_Sur\": 0,\n",
        "        \"ubicacion_Triana\": 0,\n",
        "        \"tamaño_mascota_aceptada_Pequeño\": 0,\n",
        "        \"tamaño_mascota_aceptada_Grande\": 1,\n",
        "        \"experiencia\": 3,\n",
        "    },\n",
        "    {\n",
        "        \"id\": 3,\n",
        "        \"nombre\": \"Laura Martínez\",  # Nombre agregado\n",
        "        \"acepta_Perro\": 1,\n",
        "        \"acepta_Gato\": 0,\n",
        "        \"acepta_Ave\": 0,\n",
        "        \"acepta_Roedor\": 0,\n",
        "        \"ubicacion_Amate\": 1,\n",
        "        \"ubicacion_Bami\": 0,\n",
        "        \"ubicacion_Bellavista-La Palmera\": 0,\n",
        "        \"ubicacion_Centro\": 0,\n",
        "        \"ubicacion_Cerro-Amate\": 0,\n",
        "        \"ubicacion_El Plantinar\": 0,\n",
        "        \"ubicacion_Este-Alcosa-Torreblanca\": 0,\n",
        "        \"ubicacion_Huerta del Rey\": 0,\n",
        "        \"ubicacion_La Cartuja\": 0,\n",
        "        \"ubicacion_Los Remedios\": 0,\n",
        "        \"ubicacion_Macarena\": 0,\n",
        "        \"ubicacion_Nervión\": 0,\n",
        "        \"ubicacion_Padre Pío-Palmete\": 0,\n",
        "        \"ubicacion_Pino Montano\": 0,\n",
        "        \"ubicacion_Polígono San Pablo\": 0,\n",
        "        \"ubicacion_San Jerónimo\": 0,\n",
        "        \"ubicacion_San Pablo-Santa Justa\": 0,\n",
        "        \"ubicacion_Sur\": 0,\n",
        "        \"ubicacion_Triana\": 0,\n",
        "        \"tamaño_mascota_aceptada_Pequeño\": 1,\n",
        "        \"tamaño_mascota_aceptada_Grande\": 0,\n",
        "        \"experiencia\": 6,\n",
        "    },\n",
        "]"
      ],
      "metadata": {
        "id": "rSGNM1vOaKIO"
      },
      "execution_count": 74,
      "outputs": []
    },
    {
      "cell_type": "code",
      "source": [
        "compatibles = encontrar_compatibles(\n",
        "    datos_formulario_mascota, \"mascota\", base_de_datos_cuidadores\n",
        ")\n",
        "print(\"Cuidadores compatibles:\", compatibles)"
      ],
      "metadata": {
        "colab": {
          "base_uri": "https://localhost:8080/"
        },
        "id": "cPT8xP5JaQoc",
        "outputId": "d6a2aaeb-edb4-4d7e-8130-7684e8c38fd6"
      },
      "execution_count": 78,
      "outputs": [
        {
          "output_type": "stream",
          "name": "stdout",
          "text": [
            "Cuidadores compatibles: [(4, 1), (4, 3), (0, 2)]\n"
          ]
        }
      ]
    },
    {
      "cell_type": "code",
      "source": [
        "nombres_cuidadores = [cuidador[\"nombre\"] for cuidador in salida_usuario]\n",
        "print(\"Cuidadores compatibles:\", \", \".join(nombres_cuidadores))"
      ],
      "metadata": {
        "colab": {
          "base_uri": "https://localhost:8080/"
        },
        "id": "wNvlbvIGaZjf",
        "outputId": "3493d8f3-d7b7-47cb-acd2-d8cb90a9d6de"
      },
      "execution_count": 79,
      "outputs": [
        {
          "output_type": "stream",
          "name": "stdout",
          "text": [
            "Cuidadores compatibles: Douglas García, Laura Martínez\n"
          ]
        }
      ]
    }
  ]
}