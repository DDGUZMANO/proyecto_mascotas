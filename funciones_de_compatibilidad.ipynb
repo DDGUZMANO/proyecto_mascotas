{
  "nbformat": 4,
  "nbformat_minor": 0,
  "metadata": {
    "colab": {
      "provenance": [],
      "authorship_tag": "ABX9TyNtjpn3PQH5iM/aMyTsaL5/",
      "include_colab_link": true
    },
    "kernelspec": {
      "name": "python3",
      "display_name": "Python 3"
    },
    "language_info": {
      "name": "python"
    }
  },
  "cells": [
    {
      "cell_type": "markdown",
      "metadata": {
        "id": "view-in-github",
        "colab_type": "text"
      },
      "source": [
        "<a href=\"https://colab.research.google.com/github/DDGUZMANO/proyecto_mascotas/blob/Machine-Learning/funciones_de_compatibilidad.ipynb\" target=\"_parent\"><img src=\"https://colab.research.google.com/assets/colab-badge.svg\" alt=\"Open In Colab\"/></a>"
      ]
    },
    {
      "cell_type": "markdown",
      "source": [
        "# Funciones para encontrar la mascota que sea mas compatible al usuario cuidador\n"
      ],
      "metadata": {
        "id": "pEoue_FHNO2z"
      }
    },
    {
      "cell_type": "code",
      "source": [
        "def calcular_compatibilidad_cuidador(cuidador, mascota):\n",
        "    \"\"\"\n",
        "    Calcula la compatibilidad de un cuidador con una mascota.\n",
        "\n",
        "    Args:\n",
        "        cuidador (dict): Diccionario con los datos del cuidador.\n",
        "        mascota (dict): Diccionario con los datos de la mascota.\n",
        "\n",
        "    Returns:\n",
        "        int: Puntuación de compatibilidad.\n",
        "    \"\"\"\n",
        "    compatibilidad_cuidador = 0\n",
        "    # Comprobar tipo de animal\n",
        "    if cuidador['acepta_Perro'] == 1 and mascota['tipo_animal_Perro'] == 1:\n",
        "        compatibilidad_cuidador += 1\n",
        "    if cuidador['acepta_Gato'] == 1 and mascota['tipo_animal_Gato'] == 1:\n",
        "        compatibilidad_cuidador += 1\n",
        "    if cuidador['acepta_Ave'] == 1 and mascota['tipo_animal_Ave'] == 1:\n",
        "        compatibilidad_cuidador += 1\n",
        "    if cuidador['acepta_Roedor'] == 1 and mascota['tipo_animal_Roedor'] == 1:\n",
        "        compatibilidad_cuidador += 1\n",
        "\n",
        "    # Comprobar ubicación (barrio)\n",
        "    for ubicacion in cuidador:\n",
        "        if \"ubicacion_\" in ubicacion:\n",
        "            if cuidador[ubicacion] == 1 and mascota[ubicacion] == 1:\n",
        "                compatibilidad_cuidador += 1\n",
        "\n",
        "    # Comprobar tamaño de mascota\n",
        "    if cuidador['tamaño_mascota_aceptada_Pequeño'] == 1 and mascota['tamanio_Pequeño'] == 1:\n",
        "        compatibilidad_cuidador += 1\n",
        "    if cuidador['tamaño_mascota_aceptada_Grande'] == 1 and mascota['tamanio_Grande'] == 1:\n",
        "        compatibilidad_cuidador += 1\n",
        "\n",
        "    # Comprobar necesidades especiales y experiencia (si aplica)\n",
        "    if 'necesidades_especiales_True' in mascota:\n",
        "        if mascota['necesidades_especiales_True'] == 1:\n",
        "            if cuidador['experiencia'] > 5:\n",
        "                compatibilidad_cuidador += 1\n",
        "            else:\n",
        "                compatibilidad_cuidador -= 1  # Penalizar la incompatibilidad\n",
        "\n",
        "    return compatibilidad_cuidador"
      ],
      "metadata": {
        "id": "SmFQSvfGMzcm"
      },
      "execution_count": 45,
      "outputs": []
    },
    {
      "cell_type": "code",
      "source": [
        "def encontrar_compatibles_cuidador(datos_formulario, base_de_datos_mascotas):\n",
        "    \"\"\"\n",
        "    Encuentra mascotas compatibles con los datos del cuidador.\n",
        "\n",
        "    Args:\n",
        "        datos_formulario (dict): Diccionario con los datos del cuidador.\n",
        "        base_de_datos_mascotas (list): Lista de diccionarios con los datos de las mascotas.\n",
        "\n",
        "    Returns:\n",
        "        list: Lista de tuplas (compatibilidad, id_mascota).\n",
        "    \"\"\"\n",
        "\n",
        "    resultados_cuidador = []\n",
        "    for mascota in base_de_datos_mascotas:\n",
        "        compatibilidad = calcular_compatibilidad_cuidador(datos_formulario, mascota)\n",
        "        resultados_cuidador.append((compatibilidad, mascota[\"id\"]))  # Asumiendo que cada mascota tiene un \"id\"\n",
        "\n",
        "    resultados_cuidador.sort(key=lambda x: x[0], reverse=True)\n",
        "    return resultados_cuidador"
      ],
      "metadata": {
        "id": "Eox8XBIpM4I8"
      },
      "execution_count": 54,
      "outputs": []
    },
    {
      "cell_type": "code",
      "source": [
        "def generar_salida_usuario_mascotas(resultados_cuidador, base_de_datos_mascotas, num_mascotas=2):\n",
        "    salida_usuario_mascotas = []\n",
        "    for compatibilidad_cuidador, id_mascota in resultados_cuidador[:num_mascotas]:\n",
        "        for mascota in base_de_datos_mascotas:\n",
        "            if mascota[\"id\"] == id_mascota:\n",
        "                salida_usuario_mascotas.append(\n",
        "                    {\n",
        "                        \"id\": mascota[\"id\"],\n",
        "                        \"nombre\": mascota[\"nombre\"],\n",
        "                        \"compatibilidad\": compatibilidad_cuidador,\n",
        "                        \"url_imagen\": mascota[\"url_imagen\"],\n",
        "                    }\n",
        "                )\n",
        "                break\n",
        "    return salida_usuario_mascotas"
      ],
      "metadata": {
        "id": "1waF5wLFM_hs"
      },
      "execution_count": 47,
      "outputs": []
    },
    {
      "cell_type": "markdown",
      "source": [
        "# prueba"
      ],
      "metadata": {
        "id": "zHAkzxryPNgR"
      }
    },
    {
      "cell_type": "code",
      "source": [
        "pip install Faker"
      ],
      "metadata": {
        "colab": {
          "base_uri": "https://localhost:8080/"
        },
        "id": "_pf2GTeRN28j",
        "outputId": "6dbb72ea-5d05-4fe6-b233-f2d16e503825"
      },
      "execution_count": 48,
      "outputs": [
        {
          "output_type": "stream",
          "name": "stdout",
          "text": [
            "Requirement already satisfied: Faker in /usr/local/lib/python3.11/dist-packages (37.0.2)\n",
            "Requirement already satisfied: tzdata in /usr/local/lib/python3.11/dist-packages (from Faker) (2025.1)\n"
          ]
        }
      ]
    },
    {
      "cell_type": "code",
      "source": [
        "datos_formulario_cuidador = {\n",
        "    \"acepta_Perro\": 1,\n",
        "    \"acepta_Gato\": 0,\n",
        "    \"acepta_Ave\": 0,\n",
        "    \"acepta_Roedor\": 0,\n",
        "    \"ubicacion_Amate\": 1,\n",
        "    \"ubicacion_Bami\": 0,\n",
        "    \"ubicacion_Bellavista-La Palmera\": 0,\n",
        "    \"ubicacion_Centro\": 0,\n",
        "    \"ubicacion_Cerro-Amate\": 0,\n",
        "    \"ubicacion_El Plantinar\": 0,\n",
        "    \"ubicacion_Este-Alcosa-Torreblanca\": 0,\n",
        "    \"ubicacion_Huerta del Rey\": 0,\n",
        "    \"ubicacion_La Cartuja\": 0,\n",
        "    \"ubicacion_Los Remedios\": 0,\n",
        "    \"ubicacion_Macarena\": 0,\n",
        "    \"ubicacion_Nervión\": 0,\n",
        "    \"ubicacion_Padre Pío-Palmete\": 0,\n",
        "    \"ubicacion_Pino Montano\": 0,\n",
        "    \"ubicacion_Polígono San Pablo\": 0,\n",
        "    \"ubicacion_San Jerónimo\": 0,\n",
        "    \"ubicacion_San Pablo-Santa Justa\": 0,\n",
        "    \"ubicacion_Sur\": 0,\n",
        "    \"ubicacion_Triana\": 0,\n",
        "    \"tamaño_mascota_aceptada_Pequeño\": 1,\n",
        "    \"tamaño_mascota_aceptada_Grande\": 0,\n",
        "    \"experiencia\": 7,\n",
        "}"
      ],
      "metadata": {
        "id": "Zo30czS5Phcs"
      },
      "execution_count": 49,
      "outputs": []
    },
    {
      "cell_type": "code",
      "source": [
        "from faker import Faker\n",
        "\n",
        "fake = Faker()\n",
        "\n",
        "base_de_datos_mascotas = [\n",
        "    {\n",
        "        \"id\": 1,\n",
        "        \"nombre\": \"Max\",\n",
        "        \"tipo_animal_Perro\": 1,\n",
        "        \"tipo_animal_Gato\": 0,\n",
        "        \"tipo_animal_Ave\": 0,\n",
        "        \"tipo_animal_Roedor\": 0,\n",
        "        \"ubicacion_Amate\": 1,\n",
        "        \"ubicacion_Bami\": 0,\n",
        "        \"ubicacion_Bellavista-La Palmera\": 0,\n",
        "        \"ubicacion_Centro\": 0,\n",
        "        \"ubicacion_Cerro-Amate\": 0,\n",
        "        \"ubicacion_El Plantinar\": 0,\n",
        "        \"ubicacion_Este-Alcosa-Torreblanca\": 0,\n",
        "        \"ubicacion_Huerta del Rey\": 0,\n",
        "        \"ubicacion_La Cartuja\": 0,\n",
        "        \"ubicacion_Los Remedios\": 0,\n",
        "        \"ubicacion_Macarena\": 0,\n",
        "        \"ubicacion_Nervión\": 0,\n",
        "        \"ubicacion_Padre Pío-Palmete\": 0,\n",
        "        \"ubicacion_Pino Montano\": 0,\n",
        "        \"ubicacion_Polígono San Pablo\": 0,\n",
        "        \"ubicacion_San Jerónimo\": 0,\n",
        "        \"ubicacion_San Pablo-Santa Justa\": 0,\n",
        "        \"ubicacion_Sur\": 0,\n",
        "        \"ubicacion_Triana\": 0,\n",
        "        \"tamanio_Pequeño\": 1,\n",
        "        \"tamanio_Grande\": 0,\n",
        "        \"necesidades_especiales_True\": 1,\n",
        "        \"url_imagen\": fake.image_url(),  # URL de imagen ficticia generada con Faker\n",
        "    },\n",
        "    {\n",
        "        \"id\": 2,\n",
        "        \"nombre\": \"Luna\",\n",
        "        \"tipo_animal_Perro\": 1,\n",
        "        \"tipo_animal_Gato\": 0,\n",
        "        \"tipo_animal_Ave\": 0,\n",
        "        \"tipo_animal_Roedor\": 0,\n",
        "        \"ubicacion_Amate\": 0,\n",
        "        \"ubicacion_Bami\": 1,\n",
        "        \"ubicacion_Bellavista-La Palmera\": 0,\n",
        "        \"ubicacion_Centro\": 0,\n",
        "        \"ubicacion_Cerro-Amate\": 0,\n",
        "        \"ubicacion_El Plantinar\": 0,\n",
        "        \"ubicacion_Este-Alcosa-Torreblanca\": 0,\n",
        "        \"ubicacion_Huerta del Rey\": 0,\n",
        "        \"ubicacion_La Cartuja\": 0,\n",
        "        \"ubicacion_Los Remedios\": 0,\n",
        "        \"ubicacion_Macarena\": 0,\n",
        "        \"ubicacion_Nervión\": 0,\n",
        "        \"ubicacion_Padre Pío-Palmete\": 0,\n",
        "        \"ubicacion_Pino Montano\": 0,\n",
        "        \"ubicacion_Polígono San Pablo\": 0,\n",
        "        \"ubicacion_San Jerónimo\": 0,\n",
        "        \"ubicacion_San Pablo-Santa Justa\": 0,\n",
        "        \"ubicacion_Sur\": 0,\n",
        "        \"ubicacion_Triana\": 0,\n",
        "        \"tamanio_Pequeño\": 0,\n",
        "        \"tamanio_Grande\": 1,\n",
        "        \"necesidades_especiales_False\": 1,\n",
        "        \"url_imagen\": fake.image_url(),  # URL de imagen ficticia generada con Faker\n",
        "    },\n",
        "    {\n",
        "        \"id\": 3,\n",
        "        \"nombre\": \"Coco\",\n",
        "        \"tipo_animal_Perro\": 1,\n",
        "        \"tipo_animal_Gato\": 0,\n",
        "        \"tipo_animal_Ave\": 0,\n",
        "        \"tipo_animal_Roedor\": 0,\n",
        "        \"ubicacion_Amate\": 1,\n",
        "        \"ubicacion_Bami\": 0,\n",
        "        \"ubicacion_Bellavista-La Palmera\": 0,\n",
        "        \"ubicacion_Centro\": 0,\n",
        "        \"ubicacion_Cerro-Amate\": 0,\n",
        "        \"ubicacion_El Plantinar\": 0,\n",
        "        \"ubicacion_Este-Alcosa-Torreblanca\": 0,\n",
        "        \"ubicacion_Huerta del Rey\": 0,\n",
        "        \"ubicacion_La Cartuja\": 0,\n",
        "        \"ubicacion_Los Remedios\": 0,\n",
        "        \"ubicacion_Macarena\": 0,\n",
        "        \"ubicacion_Nervión\": 0,\n",
        "        \"ubicacion_Padre Pío-Palmete\": 0,\n",
        "        \"ubicacion_Pino Montano\": 0,\n",
        "        \"ubicacion_Polígono San Pablo\": 0,\n",
        "        \"ubicacion_San Jerónimo\": 0,\n",
        "        \"ubicacion_San Pablo-Santa Justa\": 0,\n",
        "        \"ubicacion_Sur\": 0,\n",
        "        \"ubicacion_Triana\": 0,\n",
        "        \"tamanio_Pequeño\": 1,\n",
        "        \"tamanio_Grande\": 0,\n",
        "        \"necesidades_especiales_True\": 0,\n",
        "        \"url_imagen\": fake.image_url(),  # URL de imagen ficticia generada con Faker\n",
        "    },\n",
        "]"
      ],
      "metadata": {
        "id": "Aoq-sXBnNyK1"
      },
      "execution_count": 50,
      "outputs": []
    },
    {
      "cell_type": "code",
      "source": [
        "resultados_cuidador = encontrar_compatibles_cuidador(datos_formulario_cuidador, base_de_datos_mascotas)\n",
        "print(\"Mascotas compatibles:\", resultados_cuidador)"
      ],
      "metadata": {
        "colab": {
          "base_uri": "https://localhost:8080/"
        },
        "id": "EF-ATbXEPBua",
        "outputId": "1c9c5bfd-1fb0-4591-df18-f73cc9885ccb"
      },
      "execution_count": 56,
      "outputs": [
        {
          "output_type": "stream",
          "name": "stdout",
          "text": [
            "Mascotas compatibles: [(4, 1), (3, 3), (1, 2)]\n"
          ]
        }
      ]
    },
    {
      "cell_type": "code",
      "source": [
        "salida_usuario = generar_salida_usuario_mascotas(resultados_cuidador, base_de_datos_mascotas)\n",
        "print(salida_usuario)"
      ],
      "metadata": {
        "colab": {
          "base_uri": "https://localhost:8080/"
        },
        "id": "Bo3_dG-9PI1g",
        "outputId": "8bb2335a-7e44-4c48-8404-1082912faf99"
      },
      "execution_count": 58,
      "outputs": [
        {
          "output_type": "stream",
          "name": "stdout",
          "text": [
            "[{'id': 1, 'nombre': 'Max', 'compatibilidad': 4, 'url_imagen': 'https://placekitten.com/302/891'}, {'id': 3, 'nombre': 'Coco', 'compatibilidad': 3, 'url_imagen': 'https://dummyimage.com/275x814'}]\n"
          ]
        }
      ]
    },
    {
      "cell_type": "markdown",
      "source": [
        "# funcion para recomendar un cuidador al usuario mascota\n"
      ],
      "metadata": {
        "id": "8cAWs1SoZ5mw"
      }
    },
    {
      "cell_type": "code",
      "source": [
        "def calcular_compatibilidad_mascota(mascota, cuidador):\n",
        "    \"\"\"\n",
        "    Calcula la compatibilidad entre una mascota y un cuidador.\n",
        "\n",
        "    Args:\n",
        "        mascota (dict): Diccionario con los datos de la mascota.\n",
        "        cuidador (dict): Diccionario con los datos del cuidador.\n",
        "\n",
        "    Returns:\n",
        "        int: Puntuación de compatibilidad.\n",
        "    \"\"\"\n",
        "    compatibilidad_mascota = 0\n",
        "\n",
        "    # Comprobar tipo de animal\n",
        "    if mascota['tipo_animal_Perro'] == 1 and cuidador['acepta_Perro'] == 1:\n",
        "        compatibilidad_mascota += 1\n",
        "    if mascota['tipo_animal_Gato'] == 1 and cuidador['acepta_Gato'] == 1:\n",
        "        compatibilidad_mascota += 1\n",
        "    if mascota['tipo_animal_Ave'] == 1 and cuidador['acepta_Ave'] == 1:\n",
        "        compatibilidad_mascota += 1\n",
        "    if mascota['tipo_animal_Roedor'] == 1 and cuidador['acepta_Roedor'] == 1:\n",
        "        compatibilidad_mascota += 1\n",
        "\n",
        "    # Comprobar ubicación (barrio)\n",
        "    # Asumiendo que tienes una lista de nombres de columnas de ubicación\n",
        "    ubicaciones = [col for col in cuidador if col.startswith('ubicacion_')]\n",
        "    for ubicacion in ubicaciones:\n",
        "        if mascota[ubicacion] == 1 and cuidador[ubicacion] == 1:\n",
        "            compatibilidad_mascota += 1\n",
        "\n",
        "    # Comprobar tamaño de mascota\n",
        "    if mascota['tamanio_Pequeño'] == 1 and cuidador['tamaño_mascota_aceptada_Pequeño'] == 1:\n",
        "        compatibilidad_mascota += 1\n",
        "    if mascota['tamanio_Grande'] == 1 and cuidador['tamaño_mascota_aceptada_Grande'] == 1:\n",
        "        compatibilidad_mascota += 1\n",
        "\n",
        "    # Comprobar necesidades especiales y experiencia\n",
        "    if mascota['necesidades_especiales_True'] == 1:\n",
        "        if cuidador['experiencia'] > 5:\n",
        "            compatibilidad_mascota += 1\n",
        "        else:\n",
        "            compatibilidad_mascota -= 1  # Penalizar la incompatibilidad\n",
        "\n",
        "    return compatibilidad_mascota"
      ],
      "metadata": {
        "id": "6lZweKVTaAPl"
      },
      "execution_count": 60,
      "outputs": []
    },
    {
      "cell_type": "code",
      "source": [
        "def encontrar_compatibles_mascota(datos_formulario, tipo_usuario, base_de_datos):\n",
        "    \"\"\"\n",
        "    Encuentra cuidadores o mascotas compatibles con los datos del formulario.\n",
        "\n",
        "    Args:\n",
        "        datos_formulario (dict): Diccionario con los datos del formulario.\n",
        "        tipo_usuario (str): \"mascota\" o \"cuidador\".\n",
        "        base_de_datos (list): Lista de diccionarios con los datos de la base de datos.\n",
        "\n",
        "    Returns:\n",
        "        list: Lista de tuplas (compatibilidad, id_usuario).\n",
        "    \"\"\"\n",
        "\n",
        "    resultados_mascota = []\n",
        "    for usuario in base_de_datos:\n",
        "        if tipo_usuario == \"mascota\":\n",
        "            compatibilidad = calcular_compatibilidad_mascota(datos_formulario, usuario)\n",
        "            resultados_mascota.append((compatibilidad, usuario[\"id\"]))\n",
        "        elif tipo_usuario == \"cuidador\":\n",
        "            compatibilidad = calcular_compatibilidad_mascota(usuario, datos_formulario)\n",
        "            resultados_mascota.append((compatibilidad, usuario[\"id\"]))\n",
        "\n",
        "    resultados_mascota.sort(key=lambda x: x[0], reverse=True)\n",
        "    return resultados_mascota"
      ],
      "metadata": {
        "id": "OAQPOX45aNJw"
      },
      "execution_count": 61,
      "outputs": []
    },
    {
      "cell_type": "code",
      "source": [
        "def generar_salida_usuario_cuidador(resultados, base_de_datos_cuidadores, num_cuidadores=2):\n",
        "    \"\"\"\n",
        "    Genera una lista de diccionarios con la información de los cuidadores más compatibles.\n",
        "\n",
        "    Args:\n",
        "        resultados (list): Lista de tuplas (compatibilidad, id_cuidador).\n",
        "        base_de_datos_cuidadores (list): Lista de diccionarios con los datos de los cuidadores.\n",
        "        num_cuidadores (int): Número de cuidadores a mostrar (por defecto, 2).\n",
        "\n",
        "    Returns:\n",
        "        list: Lista de diccionarios con la información de los cuidadores.\n",
        "    \"\"\"\n",
        "\n",
        "    salida_usuario_cuidador = []\n",
        "    for compatibilidad, id_cuidador in resultados[:num_cuidadores]:  # Toma solo los primeros num_cuidadores\n",
        "        for cuidador in base_de_datos_cuidadores:\n",
        "            if cuidador[\"id\"] == id_cuidador:\n",
        "                salida_usuario_cuidador.append(\n",
        "                    {\n",
        "                        \"id\": cuidador[\"id\"],\n",
        "                        \"nombre\": cuidador[\"nombre\"],\n",
        "                        \"compatibilidad\": compatibilidad,\n",
        "                        # Agrega aquí otros datos del cuidador que quieras mostrar\n",
        "                    }\n",
        "                )\n",
        "                break  # Encontró el cuidador, no necesita seguir buscando\n",
        "    return salida_usuario_cuidador\n"
      ],
      "metadata": {
        "id": "ZJ7k9YQGaW86"
      },
      "execution_count": 68,
      "outputs": []
    },
    {
      "cell_type": "markdown",
      "source": [
        "# prueba\n"
      ],
      "metadata": {
        "id": "gIpqdihdawOS"
      }
    },
    {
      "cell_type": "code",
      "source": [
        "datos_formulario_mascota = {\n",
        "    \"tipo_animal_Perro\": 1,\n",
        "    \"tipo_animal_Gato\": 0,\n",
        "    \"tipo_animal_Ave\": 0,\n",
        "    \"tipo_animal_Roedor\": 0,\n",
        "    \"ubicacion_Amate\": 1,\n",
        "    \"ubicacion_Bami\": 0,\n",
        "    \"ubicacion_Bellavista-La Palmera\": 0,\n",
        "    \"ubicacion_Centro\": 0,\n",
        "    \"ubicacion_Cerro-Amate\": 0,\n",
        "    \"ubicacion_El Plantinar\": 0,\n",
        "    \"ubicacion_Este-Alcosa-Torreblanca\": 0,\n",
        "    \"ubicacion_Huerta del Rey\": 0,\n",
        "    \"ubicacion_La Cartuja\": 0,\n",
        "    \"ubicacion_Los Remedios\": 0,\n",
        "    \"ubicacion_Macarena\": 0,\n",
        "    \"ubicacion_Nervión\": 0,\n",
        "    \"ubicacion_Padre Pío-Palmete\": 0,\n",
        "    \"ubicacion_Pino Montano\": 0,\n",
        "    \"ubicacion_Polígono San Pablo\": 0,\n",
        "    \"ubicacion_San Jerónimo\": 0,\n",
        "    \"ubicacion_San Pablo-Santa Justa\": 0,\n",
        "    \"ubicacion_Sur\": 0,\n",
        "    \"ubicacion_Triana\": 0,\n",
        "    \"tamanio_Pequeño\": 1,\n",
        "    \"tamanio_Grande\": 0,\n",
        "    \"necesidades_especiales_True\": 1,\n",
        "}"
      ],
      "metadata": {
        "id": "tQy_5N99aJQb"
      },
      "execution_count": 69,
      "outputs": []
    },
    {
      "cell_type": "code",
      "source": [
        "base_de_datos_cuidadores = [\n",
        "    {\n",
        "        \"id\": 1,\n",
        "        \"nombre\": \"Douglas García\",  # Nombre agregado\n",
        "        \"acepta_Perro\": 1,\n",
        "        \"acepta_Gato\": 0,\n",
        "        \"acepta_Ave\": 0,\n",
        "        \"acepta_Roedor\": 0,\n",
        "        \"ubicacion_Amate\": 1,\n",
        "        \"ubicacion_Bami\": 0,\n",
        "        \"ubicacion_Bellavista-La Palmera\": 0,\n",
        "        \"ubicacion_Centro\": 0,\n",
        "        \"ubicacion_Cerro-Amate\": 0,\n",
        "        \"ubicacion_El Plantinar\": 0,\n",
        "        \"ubicacion_Este-Alcosa-Torreblanca\": 0,\n",
        "        \"ubicacion_Huerta del Rey\": 0,\n",
        "        \"ubicacion_La Cartuja\": 0,\n",
        "        \"ubicacion_Los Remedios\": 0,\n",
        "        \"ubicacion_Macarena\": 0,\n",
        "        \"ubicacion_Nervión\": 0,\n",
        "        \"ubicacion_Padre Pío-Palmete\": 0,\n",
        "        \"ubicacion_Pino Montano\": 0,\n",
        "        \"ubicacion_Polígono San Pablo\": 0,\n",
        "        \"ubicacion_San Jerónimo\": 0,\n",
        "        \"ubicacion_San Pablo-Santa Justa\": 0,\n",
        "        \"ubicacion_Sur\": 0,\n",
        "        \"ubicacion_Triana\": 0,\n",
        "        \"tamaño_mascota_aceptada_Pequeño\": 1,\n",
        "        \"tamaño_mascota_aceptada_Grande\": 0,\n",
        "        \"experiencia\": 7,\n",
        "    },\n",
        "    {\n",
        "        \"id\": 2,\n",
        "        \"nombre\": \"Carlos Pérez\",  # Nombre agregado\n",
        "        \"acepta_Perro\": 1,\n",
        "        \"acepta_Gato\": 0,\n",
        "        \"acepta_Ave\": 0,\n",
        "        \"acepta_Roedor\": 0,\n",
        "        \"ubicacion_Amate\": 0,\n",
        "        \"ubicacion_Bami\": 1,\n",
        "        \"ubicacion_Bellavista-La Palmera\": 0,\n",
        "        \"ubicacion_Centro\": 0,\n",
        "        \"ubicacion_Cerro-Amate\": 0,\n",
        "        \"ubicacion_El Plantinar\": 0,\n",
        "        \"ubicacion_Este-Alcosa-Torreblanca\": 0,\n",
        "        \"ubicacion_Huerta del Rey\": 0,\n",
        "        \"ubicacion_La Cartuja\": 0,\n",
        "        \"ubicacion_Los Remedios\": 0,\n",
        "        \"ubicacion_Macarena\": 0,\n",
        "        \"ubicacion_Nervión\": 0,\n",
        "        \"ubicacion_Padre Pío-Palmete\": 0,\n",
        "        \"ubicacion_Pino Montano\": 0,\n",
        "        \"ubicacion_Polígono San Pablo\": 0,\n",
        "        \"ubicacion_San Jerónimo\": 0,\n",
        "        \"ubicacion_San Pablo-Santa Justa\": 0,\n",
        "        \"ubicacion_Sur\": 0,\n",
        "        \"ubicacion_Triana\": 0,\n",
        "        \"tamaño_mascota_aceptada_Pequeño\": 0,\n",
        "        \"tamaño_mascota_aceptada_Grande\": 1,\n",
        "        \"experiencia\": 3,\n",
        "    },\n",
        "    {\n",
        "        \"id\": 3,\n",
        "        \"nombre\": \"Laura Martínez\",  # Nombre agregado\n",
        "        \"acepta_Perro\": 1,\n",
        "        \"acepta_Gato\": 0,\n",
        "        \"acepta_Ave\": 0,\n",
        "        \"acepta_Roedor\": 0,\n",
        "        \"ubicacion_Amate\": 1,\n",
        "        \"ubicacion_Bami\": 0,\n",
        "        \"ubicacion_Bellavista-La Palmera\": 0,\n",
        "        \"ubicacion_Centro\": 0,\n",
        "        \"ubicacion_Cerro-Amate\": 0,\n",
        "        \"ubicacion_El Plantinar\": 0,\n",
        "        \"ubicacion_Este-Alcosa-Torreblanca\": 0,\n",
        "        \"ubicacion_Huerta del Rey\": 0,\n",
        "        \"ubicacion_La Cartuja\": 0,\n",
        "        \"ubicacion_Los Remedios\": 0,\n",
        "        \"ubicacion_Macarena\": 0,\n",
        "        \"ubicacion_Nervión\": 0,\n",
        "        \"ubicacion_Padre Pío-Palmete\": 0,\n",
        "        \"ubicacion_Pino Montano\": 0,\n",
        "        \"ubicacion_Polígono San Pablo\": 0,\n",
        "        \"ubicacion_San Jerónimo\": 0,\n",
        "        \"ubicacion_San Pablo-Santa Justa\": 0,\n",
        "        \"ubicacion_Sur\": 0,\n",
        "        \"ubicacion_Triana\": 0,\n",
        "        \"tamaño_mascota_aceptada_Pequeño\": 1,\n",
        "        \"tamaño_mascota_aceptada_Grande\": 0,\n",
        "        \"experiencia\": 6,\n",
        "    },\n",
        "]"
      ],
      "metadata": {
        "id": "rSGNM1vOaKIO"
      },
      "execution_count": 70,
      "outputs": []
    },
    {
      "cell_type": "code",
      "source": [
        "compatibles = encontrar_compatibles_mascota(\n",
        "    datos_formulario_mascota, \"mascota\", base_de_datos_cuidadores\n",
        ")\n",
        "print(\"Cuidadores compatibles:\", compatibles)"
      ],
      "metadata": {
        "colab": {
          "base_uri": "https://localhost:8080/"
        },
        "id": "cPT8xP5JaQoc",
        "outputId": "67b7c0ef-916d-433a-d391-1df3d39e8f67"
      },
      "execution_count": 71,
      "outputs": [
        {
          "output_type": "stream",
          "name": "stdout",
          "text": [
            "Cuidadores compatibles: [(4, 1), (4, 3), (0, 2)]\n"
          ]
        }
      ]
    },
    {
      "cell_type": "code",
      "source": [
        "# Ejemplo de uso\n",
        "resultados = [(4, 1), (4, 3), (0, 2)]\n",
        "salida_usuario = generar_salida_usuario_cuidador(resultados, base_de_datos_cuidadores)\n",
        "print(salida_usuario)"
      ],
      "metadata": {
        "colab": {
          "base_uri": "https://localhost:8080/"
        },
        "id": "hjAxuuLWavOk",
        "outputId": "8a49b478-9be5-4e7d-e25c-836bd7c150a7"
      },
      "execution_count": 72,
      "outputs": [
        {
          "output_type": "stream",
          "name": "stdout",
          "text": [
            "[{'id': 1, 'nombre': 'Douglas García', 'compatibilidad': 4}, {'id': 3, 'nombre': 'Laura Martínez', 'compatibilidad': 4}]\n"
          ]
        }
      ]
    },
    {
      "cell_type": "code",
      "source": [
        "nombres_cuidadores = [cuidador[\"nombre\"] for cuidador in salida_usuario]\n",
        "print(\"Cuidadores compatibles:\", \", \".join(nombres_cuidadores))"
      ],
      "metadata": {
        "colab": {
          "base_uri": "https://localhost:8080/"
        },
        "id": "wNvlbvIGaZjf",
        "outputId": "fea924bf-6cb5-4d9c-b47d-9c360cd2c81e"
      },
      "execution_count": 73,
      "outputs": [
        {
          "output_type": "stream",
          "name": "stdout",
          "text": [
            "Cuidadores compatibles: Douglas García, Laura Martínez\n"
          ]
        }
      ]
    }
  ]
}